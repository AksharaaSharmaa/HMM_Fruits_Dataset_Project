{
 "cells": [
  {
   "cell_type": "markdown",
   "id": "2f393260-f06b-4a93-ab7c-7abde8600a3c",
   "metadata": {},
   "source": [
    "<h1 align=\"center\"><u>🎙️ HMM-Based Speech Recognition on Fruit Voice Dataset</u></h1>\n",
    "\n",
    "\n",
    "\n",
    "## 🧩 Introduction\n",
    "\n",
    "This notebook demonstrates how to build a **Hidden Markov Model (HMM)**-based **isolated word speech recognizer** using a simple **Fruit Voice Dataset**.\n",
    "\n",
    "Each folder in the dataset (e.g., `apple`, `banana`, `mango`) contains several audio recordings of people speaking that fruit’s name.\n",
    "Our goal is to train an HMM for each fruit and then classify an unknown recording by comparing which model best matches the input.\n",
    "\n",
    "This project highlights:\n",
    "- How speech signals can be transformed into **MFCC features**\n",
    "- How HMMs model the **temporal patterns of sound**\n",
    "- How we can evaluate and visualize recognition performance\n",
    "\n",
    "It’s a lightweight, interpretable, and hands-on example of **speech recognition from scratch**, without deep learning or heavy dependencies."
   ]
  },
  {
   "cell_type": "code",
   "execution_count": 19,
   "id": "ddde1cd9-eb9b-46da-a1f7-09b57b0b8b1a",
   "metadata": {},
   "outputs": [],
   "source": [
    "import glob\n",
    "import time\n",
    "import numpy as np\n",
    "from hmmlearn import hmm\n",
    "from scipy.io import wavfile\n",
    "from collections import defaultdict\n",
    "from python_speech_features import mfcc\n",
    "import concurrent.futures as cf\n",
    "from sklearn.metrics import confusion_matrix, accuracy_score\n",
    "import matplotlib.pyplot as plt\n",
    "import seaborn as sns"
   ]
  },
  {
   "cell_type": "markdown",
   "id": "e92e7456-fbf2-497d-b726-ef7b53e4db80",
   "metadata": {},
   "source": [
    "## 📂 Step 1: Loading and Organizing the Dataset\n",
    "\n",
    "We begin by loading all `.wav` files from the **fruit dataset**, where each folder name represents a label.  \n",
    "\n",
    "Each subfolder contains multiple voice recordings of that fruit name.  \n",
    "We store all these audio signals in a dictionary where keys are fruit labels and values are lists of audio signals.\n"
   ]
  },
  {
   "cell_type": "code",
   "execution_count": 20,
   "id": "6fd55fa7-1cca-4429-b9a1-f638be23c28f",
   "metadata": {},
   "outputs": [
    {
     "name": "stdout",
     "output_type": "stream",
     "text": [
      "Loading audio files...\n",
      "Loaded 105 files across 7 labels.\n",
      "Labels: ['apple', 'banana', 'kiwi', 'lime', 'orange', 'peach', 'pineapple']\n"
     ]
    }
   ],
   "source": [
    "start_time = time.perf_counter()\n",
    "db = defaultdict(list)\n",
    "\n",
    "# Adjust this path to your dataset location\n",
    "DATASET_PATH = r\"C:\\Users\\New User\\OneDrive\\Desktop\\NLP\\speech-recognition-hmm\\datasets\\fruits\"\n",
    "\n",
    "print(\"Loading audio files...\")\n",
    "for path in glob.glob(f'{DATASET_PATH}/*'):\n",
    "    label = path.split('/')[-1].split('\\\\')[-1]  # Works on Windows & Linux\n",
    "    for wav_path in glob.glob(path + '/*.wav'):\n",
    "        sr, signal = wavfile.read(wav_path)\n",
    "        db[label].append(signal.astype('float'))\n",
    "\n",
    "labels = list(db.keys())\n",
    "print(f\"Loaded {sum(len(v) for v in db.values())} files across {len(labels)} labels.\")\n",
    "print(\"Labels:\", labels)"
   ]
  },
  {
   "cell_type": "markdown",
   "id": "9b3c7090-be56-49c8-8d6f-d53010ce920b",
   "metadata": {},
   "source": [
    "## 🎧 Step 2: Feature Extraction using MFCC\n",
    "\n",
    "Next, we convert each audio signal into a sequence of **MFCC (Mel-Frequency Cepstral Coefficients)** — one of the most widely used features in speech recognition.\n",
    "\n",
    "MFCCs represent how sound frequencies are perceived by the human ear.  \n",
    "They help our model focus on the meaningful frequency patterns that distinguish words like “apple” from “mango”.\n",
    "\n",
    "Each recording will be transformed into a 2D array where:\n",
    "- Rows represent frames of the audio signal.\n",
    "- Columns represent MFCC feature coefficients.\n"
   ]
  },
  {
   "cell_type": "code",
   "execution_count": 21,
   "id": "44e96f4a-df9c-4820-bb06-d987620df93b",
   "metadata": {},
   "outputs": [
    {
     "name": "stdout",
     "output_type": "stream",
     "text": [
      "Extracting MFCC features...\n"
     ]
    }
   ],
   "source": [
    "def get_mfcc(x, sr):\n",
    "    return mfcc(x, sr, winfunc=np.hamming)\n",
    "\n",
    "def get_list_mfcc(label):\n",
    "    with cf.ThreadPoolExecutor() as executor:\n",
    "        results = executor.map(lambda sig: get_mfcc(sig, sr), db[label])\n",
    "    return list(results)\n",
    "\n",
    "print(\"Extracting MFCC features...\")\n",
    "with cf.ThreadPoolExecutor() as executor:\n",
    "    features = executor.map(get_list_mfcc, labels)\n",
    "    features = dict(zip(labels, features))"
   ]
  },
  {
   "cell_type": "markdown",
   "id": "ed7200a9-0547-4caa-957e-740b37c0d74b",
   "metadata": {},
   "source": [
    "## 🎨 Step 3: Visualizing MFCC Features\n",
    "\n",
    "Before training our models, it’s helpful to **see what the extracted MFCCs actually look like**.  \n",
    "\n",
    "MFCCs are a time-frequency representation of speech, showing how energy in different frequency bands changes over time.  \n",
    "Each column represents a time frame, and each row represents one MFCC coefficient.\n",
    "\n",
    "In this visualization:\n",
    "- Brighter colors mean higher energy in that frequency band.\n",
    "- The pattern gives a unique acoustic “fingerprint” of the word.\n"
   ]
  },
  {
   "cell_type": "code",
   "execution_count": 22,
   "id": "c5c4d38d-34ce-47c7-82f5-7923c6065053",
   "metadata": {},
   "outputs": [
    {
     "data": {
      "image/png": "[encoded data removed]",
      "text/plain": [
       "<Figure size 1000x400 with 2 Axes>"
      ]
     },
     "metadata": {},
     "output_type": "display_data"
    }
   ],
   "source": [
    "import random\n",
    "import librosa.display\n",
    "\n",
    "# Pick a random fruit and a random sample\n",
    "label = random.choice(labels)\n",
    "sample_signal = db[label][0]\n",
    "sr = 16000  # Assuming 16kHz; adjust if your dataset differs\n",
    "\n",
    "# Compute MFCC features\n",
    "mfcc_features = mfcc(sample_signal, sr, winfunc=np.hamming)\n",
    "\n",
    "# Visualize MFCCs\n",
    "plt.figure(figsize=(10, 4))\n",
    "plt.imshow(mfcc_features.T, aspect='auto', origin='lower', cmap='magma')\n",
    "plt.title(f\"MFCC Visualization for '{label}'\")\n",
    "plt.xlabel(\"Time Frames\")\n",
    "plt.ylabel(\"MFCC Coefficients\")\n",
    "plt.colorbar(label='Amplitude')\n",
    "plt.tight_layout()\n",
    "plt.show()\n"
   ]
  },
  {
   "cell_type": "markdown",
   "id": "9daf8463-7a26-4559-a4f3-8707089f8e30",
   "metadata": {},
   "source": [
    "## ✂️ Step 4: Splitting Data into Training and Testing Sets\n",
    "\n",
    "We’ll use **80% of the samples** for training and **20% for testing**.\n",
    "\n",
    "Each HMM will learn from its training samples how that word typically sounds,  \n",
    "and we’ll later check how well it can recognize unseen recordings.\n"
   ]
  },
  {
   "cell_type": "code",
   "execution_count": 23,
   "id": "535dfb23-f4e6-4f71-aaa2-639e8ff3baa9",
   "metadata": {},
   "outputs": [
    {
     "name": "stdout",
     "output_type": "stream",
     "text": [
      "Training / Testing split done.\n"
     ]
    }
   ],
   "source": [
    "train, test = {}, {}\n",
    "for label in labels:\n",
    "    samples = features[label]\n",
    "    test_size = max(1, int(0.2 * len(samples)))\n",
    "    train[label] = np.vstack(samples[:-test_size])\n",
    "    test[label] = samples[-test_size:]\n",
    "\n",
    "print(\"Training / Testing split done.\")"
   ]
  },
  {
   "cell_type": "markdown",
   "id": "8553beff-d741-4947-bfac-a51a55e70b5a",
   "metadata": {},
   "source": [
    "## 🧠 Step 5: Training Hidden Markov Models (HMMs)\n",
    "\n",
    "Now we train a **separate HMM for each fruit**.\n",
    "\n",
    "Each model will learn:\n",
    "- The **sequential structure** of MFCC features\n",
    "- The **acoustic signature** of that word\n",
    "\n",
    "We will use a **Gaussian HMM** with 5 hidden states — each representing an abstract sound unit (like phonemes).  \n",
    "Training continues until the likelihood converges or the maximum number of iterations (100) is reached.\n"
   ]
  },
  {
   "cell_type": "code",
   "execution_count": 27,
   "id": "75698a7a-e8aa-4b38-bdb8-444d5ecb331e",
   "metadata": {},
   "outputs": [
    {
     "name": "stdout",
     "output_type": "stream",
     "text": [
      "Training HMMs...\n",
      "Training completed for all labels.\n"
     ]
    }
   ],
   "source": [
    "def train_hmm(label):\n",
    "    model = hmm.GaussianHMM(n_components=5, n_iter=100, covariance_type='diag', random_state=42)\n",
    "    model.fit(train[label])\n",
    "    return label, model\n",
    "\n",
    "print(\"Training HMMs...\")\n",
    "with cf.ThreadPoolExecutor() as executor:\n",
    "    results = list(executor.map(train_hmm, labels))\n",
    "\n",
    "models = dict(results)\n",
    "print(\"Training completed for all labels.\")"
   ]
  },
  {
   "cell_type": "markdown",
   "id": "19cfe050-0b8b-483d-a4a2-0db698b8ef63",
   "metadata": {},
   "source": [
    "## 🔍 Step 6: Predicting Spoken Word Labels\n",
    "\n",
    "Once all HMMs are trained, we can classify a new recording by checking **which model gives the highest likelihood score**.\n",
    "\n",
    "In simple terms:\n",
    "> The HMM that best “explains” the sequence of sounds is considered the correct prediction."
   ]
  },
  {
   "cell_type": "code",
   "execution_count": 29,
   "id": "5c1214ce-272f-4ae1-850e-c49378221c4a",
   "metadata": {},
   "outputs": [],
   "source": [
    "def predict(sample):\n",
    "    log_likelihoods = []\n",
    "    for label in labels:\n",
    "        try:\n",
    "            ll = models[label].score(sample)\n",
    "        except:\n",
    "            ll = -1e9  # If model fails on input\n",
    "        log_likelihoods.append(ll)\n",
    "    return labels[np.argmax(log_likelihoods)]"
   ]
  },
  {
   "cell_type": "markdown",
   "id": "48189bf8-4c17-4b58-863a-83e7d88a8d11",
   "metadata": {},
   "source": [
    "## 📊 Step 7: Evaluating Model Performance\n",
    "\n",
    "We now test our models on the unseen recordings.\n",
    "\n",
    "For each test sample:\n",
    "- We predict its label using the trained HMMs.\n",
    "- Compare the predicted label with the true label.\n",
    "\n",
    "Finally, we compute:\n",
    "- **Accuracy** — how often the model predicts correctly.\n",
    "- **Confusion Matrix** — a visual map showing which fruits are recognized correctly and which ones are confused.\n"
   ]
  },
  {
   "cell_type": "code",
   "execution_count": 9,
   "id": "b71b5f98-cd56-4215-bbc5-08e96e188586",
   "metadata": {},
   "outputs": [
    {
     "name": "stdout",
     "output_type": "stream",
     "text": [
      "\n",
      "✅ Accuracy: 100.00%\n"
     ]
    }
   ],
   "source": [
    "y_true, y_pred = [], []\n",
    "for label in labels:\n",
    "    for sample in test[label]:\n",
    "        pred = predict(sample)\n",
    "        y_true.append(label)\n",
    "        y_pred.append(pred)\n",
    "\n",
    "acc = accuracy_score(y_true, y_pred)\n",
    "print(f\"\\n✅ Accuracy: {acc*100:.2f}%\")"
   ]
  },
  {
   "cell_type": "code",
   "execution_count": 31,
   "id": "b7711d77-5cf7-4150-9181-02f846e7446d",
   "metadata": {},
   "outputs": [
    {
     "data": {
      "image/png": "[encoded data removed]",
      "text/plain": [
       "<Figure size 600x500 with 2 Axes>"
      ]
     },
     "metadata": {},
     "output_type": "display_data"
    }
   ],
   "source": [
    "plt.figure(figsize=(6, 5))\n",
    "sns.heatmap(confusion_matrix(y_true, y_pred), annot=True, fmt='d',\n",
    "            xticklabels=labels, yticklabels=labels, cmap='Blues')\n",
    "plt.title(\"Confusion Matrix\")\n",
    "plt.xlabel(\"Predicted Label\")\n",
    "plt.ylabel(\"True Label\")\n",
    "plt.show()"
   ]
  },
  {
   "cell_type": "markdown",
   "id": "51a37569-a34c-4111-96e1-048578a780ef",
   "metadata": {},
   "source": [
    "<h2 align=\"center\">\n",
    "\n",
    "# 🏁 Conclusion  \n",
    "</h2>\n",
    "\n",
    "---\n",
    "\n",
    "## 🔍 Summary\n",
    "\n",
    "In this project, we successfully built an **HMM-based isolated word speech recognition system** using a **Fruit Voice Dataset**.  \n",
    "Each fruit name (e.g., *apple, banana, mango*) was modeled using its own Hidden Markov Model trained on MFCC features extracted from the recordings.  \n",
    "\n",
    "The system achieved an impressive **100% accuracy** on the test samples — showing that HMMs can effectively capture the temporal structure and acoustic variations of short, clearly pronounced words.  \n"
   ]
  },
  {
   "cell_type": "code",
   "execution_count": null,
   "id": "108a3d42-8259-4d3b-a2ba-ac7103e5a790",
   "metadata": {},
   "outputs": [],
   "source": []
  }
 ],
 "metadata": {
  "kernelspec": {
   "display_name": "Python 3 (ipykernel)",
   "language": "python",
   "name": "python3"
  },
  "language_info": {
   "codemirror_mode": {
    "name": "ipython",
    "version": 3
   },
   "file_extension": ".py",
   "mimetype": "text/x-python",
   "name": "python",
   "nbconvert_exporter": "python",
   "pygments_lexer": "ipython3",
   "version": "3.10.0"
  }
 },
 "nbformat": 4,
 "nbformat_minor": 5
}
